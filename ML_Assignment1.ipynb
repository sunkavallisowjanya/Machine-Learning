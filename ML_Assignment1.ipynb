{
 "cells": [
  {
   "cell_type": "markdown",
   "id": "e5840f22",
   "metadata": {},
   "source": [
    "# CS 5710 - ML Assignment - 1\n",
    "# Sowjanya Sunkavalli - 700731896"
   ]
  },
  {
   "cell_type": "markdown",
   "id": "179a0bd8",
   "metadata": {},
   "source": [
    "## Question1"
   ]
  },
  {
   "cell_type": "markdown",
   "id": "f7048672",
   "metadata": {},
   "source": [
    "### * Sort the list and find the min and max age"
   ]
  },
  {
   "cell_type": "code",
   "execution_count": 167,
   "id": "3c70c0b3",
   "metadata": {},
   "outputs": [
    {
     "name": "stdout",
     "output_type": "stream",
     "text": [
      "Sorted List is : [19, 19, 20, 22, 24, 24, 24, 25, 25, 26]\n",
      "Minimum age is :  19\n",
      "Maximum age is :  26\n"
     ]
    }
   ],
   "source": [
    "ages = [19, 22, 19, 24, 20, 25, 26, 24, 25, 24] # Given List\n",
    "ages.sort() # sort() is used to sort the given list\n",
    "print('Sorted List is :', ages)\n",
    "mn = min(ages) # min() will return min value from the list\n",
    "print('Minimum age is : ', mn)\n",
    "mx = max(ages) # max() will return max value from the list\n",
    "print('Maximum age is : ', mx)"
   ]
  },
  {
   "cell_type": "markdown",
   "id": "b9e90b8d",
   "metadata": {},
   "source": [
    "### * Add the min age and the max age again to the list"
   ]
  },
  {
   "cell_type": "code",
   "execution_count": 168,
   "id": "bc07179f",
   "metadata": {},
   "outputs": [
    {
     "name": "stdout",
     "output_type": "stream",
     "text": [
      "Extended list of ages is :  [19, 19, 20, 22, 24, 24, 24, 25, 25, 26, 19, 26]\n"
     ]
    }
   ],
   "source": [
    "ages.extend([mn,mx]) # extend() is used to add the elements to the list\n",
    "print('Extended list of ages is : ', ages)"
   ]
  },
  {
   "cell_type": "markdown",
   "id": "e603610c",
   "metadata": {},
   "source": [
    "### * Find the median age (one middle item or two middle items divided by two)"
   ]
  },
  {
   "cell_type": "code",
   "execution_count": 169,
   "id": "32f41fb6",
   "metadata": {},
   "outputs": [
    {
     "name": "stdout",
     "output_type": "stream",
     "text": [
      "Median age of given list is :  24.0\n"
     ]
    }
   ],
   "source": [
    "ages.sort() # sort the extended list again using sort()\n",
    "if len(ages) % 2 ==1:\n",
    "    median =  ages[len(ages)//2]\n",
    "else:\n",
    "    median =(ages[len(ages)//2-1]+ages[len(ages)//2])/2\n",
    "print('Median age of given list is : ', median)"
   ]
  },
  {
   "cell_type": "markdown",
   "id": "50edd1c0",
   "metadata": {},
   "source": [
    "### * Find the average age (sum of all items divided by their number)"
   ]
  },
  {
   "cell_type": "code",
   "execution_count": 114,
   "id": "e61c3246",
   "metadata": {},
   "outputs": [
    {
     "name": "stdout",
     "output_type": "stream",
     "text": [
      "Average age of given list is :  22.75\n"
     ]
    }
   ],
   "source": [
    "# Find the average age (sum of all items divided by their number)\n",
    "#avg = mean(ages) # mean() is used to get the average of the given list\n",
    "avg = sum(ages)/len(ages)\n",
    "print('Average age of given list is : ', avg)"
   ]
  },
  {
   "cell_type": "markdown",
   "id": "9250fa25",
   "metadata": {},
   "source": [
    "### * Find the range of the ages (max minus min)"
   ]
  },
  {
   "cell_type": "code",
   "execution_count": 116,
   "id": "e695bc5c",
   "metadata": {},
   "outputs": [
    {
     "name": "stdout",
     "output_type": "stream",
     "text": [
      "Range of given age list is :  7\n"
     ]
    }
   ],
   "source": [
    "# Find the range of the ages (max minus min)\n",
    "r = max(ages)-min(ages) # max - min gives the range of ages here\n",
    "print('Range of given age list is : ',r)"
   ]
  },
  {
   "cell_type": "markdown",
   "id": "af36750f",
   "metadata": {},
   "source": [
    "## Question-2"
   ]
  },
  {
   "cell_type": "markdown",
   "id": "26de3622",
   "metadata": {},
   "source": [
    "### * Create an empty dictionary called dog"
   ]
  },
  {
   "cell_type": "code",
   "execution_count": 48,
   "id": "88df508a",
   "metadata": {},
   "outputs": [],
   "source": [
    "dog = dict() # dict() is used to create the new dictionary"
   ]
  },
  {
   "cell_type": "markdown",
   "id": "e3ba32ae",
   "metadata": {},
   "source": [
    "### * Add name, color, breed, legs, age to the dog dictionary"
   ]
  },
  {
   "cell_type": "code",
   "execution_count": 49,
   "id": "390b827b",
   "metadata": {},
   "outputs": [
    {
     "data": {
      "text/plain": [
       "{'name': 'Tommy',\n",
       " 'color': 'brown',\n",
       " 'breed': 'pug',\n",
       " 'legs': 4,\n",
       " 'age': '6 months'}"
      ]
     },
     "execution_count": 49,
     "metadata": {},
     "output_type": "execute_result"
    }
   ],
   "source": [
    "# adding key value pairs # dict= {key:value}\n",
    "dog = {'name' : 'Tommy', 'color': 'brown', 'breed':'pug','legs':4,'age':'6 months'} \n",
    "dog"
   ]
  },
  {
   "cell_type": "markdown",
   "id": "ecc61c05",
   "metadata": {},
   "source": [
    "### * Create a student dictionary and add first_name, last_name, gender, age, marital status, skills, country, \n",
    "### city and address as keys for the dictionary"
   ]
  },
  {
   "cell_type": "code",
   "execution_count": 10,
   "id": "3f6052c1",
   "metadata": {},
   "outputs": [
    {
     "data": {
      "text/plain": [
       "{'first_name': 'Sowjanya',\n",
       " 'last_name': 'Sunkavalli',\n",
       " 'gender': 'Female',\n",
       " 'age': '26',\n",
       " 'marital status': 'Single',\n",
       " 'skills': ['Java', 'Python', 'AWS', 'Selenium'],\n",
       " 'country': 'USA',\n",
       " 'city': 'Warrensburg',\n",
       " 'address': 'S Main St, Warrensburg'}"
      ]
     },
     "execution_count": 10,
     "metadata": {},
     "output_type": "execute_result"
    }
   ],
   "source": [
    "student = dict()\n",
    "student = {'first_name':'Sowjanya','last_name':'Sunkavalli','gender':'Female','age':'26','marital status':'Single'\n",
    ",'skills': ['Java','Python','AWS','Selenium'],'country':'USA','city':'Warrensburg','address':'S Main St, Warrensburg'}\n",
    "student"
   ]
  },
  {
   "cell_type": "markdown",
   "id": "fefa5183",
   "metadata": {},
   "source": [
    "### * Get the length of the student dictionary"
   ]
  },
  {
   "cell_type": "code",
   "execution_count": 117,
   "id": "2f6d3fe8",
   "metadata": {},
   "outputs": [
    {
     "name": "stdout",
     "output_type": "stream",
     "text": [
      "Length of student dictionary is :  9\n"
     ]
    }
   ],
   "source": [
    "# len(dictionaryname) gives us the total length of the dictionary\n",
    "print('Length of student dictionary is : ', len(student)) "
   ]
  },
  {
   "cell_type": "markdown",
   "id": "5fda0848",
   "metadata": {},
   "source": [
    "### * Get the value of skills and check the data type, it should be a list"
   ]
  },
  {
   "cell_type": "code",
   "execution_count": 153,
   "id": "55e39da7",
   "metadata": {},
   "outputs": [
    {
     "name": "stdout",
     "output_type": "stream",
     "text": [
      "Values of Skills key are :  ['Java', 'Python', 'AWS', 'Selenium', 'Jenkins']\n",
      "DataType of Skills values is : list\n"
     ]
    }
   ],
   "source": [
    "#Get the value of skills and check the data type, it should be a list\n",
    "print('Values of Skills key are : ', student['skills'])\n",
    "print('DataType of Skills values is :', type(student['skills']).__name__)"
   ]
  },
  {
   "cell_type": "markdown",
   "id": "da883f89",
   "metadata": {},
   "source": [
    "### * Modify the skills values by adding one or two skills"
   ]
  },
  {
   "cell_type": "code",
   "execution_count": 102,
   "id": "c9e83e87",
   "metadata": {},
   "outputs": [
    {
     "data": {
      "text/plain": [
       "{'first_name': 'Sowjanya',\n",
       " 'last_name': 'Sunkavalli',\n",
       " 'gender': 'Female',\n",
       " 'age': '26',\n",
       " 'marital status': 'Single',\n",
       " 'skills': ['Java', 'Python', 'AWS', 'Selenium', 'Jenkins'],\n",
       " 'country': 'USA',\n",
       " 'city': 'Warrensburg',\n",
       " 'address': 'S Main St, Warrensburg'}"
      ]
     },
     "execution_count": 102,
     "metadata": {},
     "output_type": "execute_result"
    }
   ],
   "source": [
    "student['skills'].append('Jenkins') # append() is used to add new values \n",
    "student"
   ]
  },
  {
   "cell_type": "markdown",
   "id": "d6828504",
   "metadata": {},
   "source": [
    "### * Get the dictionary keys as a list"
   ]
  },
  {
   "cell_type": "code",
   "execution_count": 104,
   "id": "73212d1e",
   "metadata": {},
   "outputs": [
    {
     "data": {
      "text/plain": [
       "dict_keys(['first_name', 'last_name', 'gender', 'age', 'marital status', 'skills', 'country', 'city', 'address'])"
      ]
     },
     "execution_count": 104,
     "metadata": {},
     "output_type": "execute_result"
    }
   ],
   "source": [
    "#dict.keys() gives the list of keys \n",
    "student.keys()"
   ]
  },
  {
   "cell_type": "markdown",
   "id": "da84a163",
   "metadata": {},
   "source": [
    "### * Get the dictionary values as a list"
   ]
  },
  {
   "cell_type": "code",
   "execution_count": 62,
   "id": "fa9f192a",
   "metadata": {},
   "outputs": [
    {
     "data": {
      "text/plain": [
       "dict_values(['Sowjanya', 'Sunkavalli', 'Female', '26', 'Single', ['Java', 'Python', 'AWS', 'Selenium', 'Test', 'Jenkins'], 'USA', 'Warrensburg', 'S Main St, Warrensburg'])"
      ]
     },
     "execution_count": 62,
     "metadata": {},
     "output_type": "execute_result"
    }
   ],
   "source": [
    "# dict.values() gives the list of values\n",
    "student.values()"
   ]
  },
  {
   "cell_type": "markdown",
   "id": "14e55b60",
   "metadata": {},
   "source": [
    "## Question-3"
   ]
  },
  {
   "cell_type": "markdown",
   "id": "61d045dd",
   "metadata": {},
   "source": [
    "### * Create a tuple containing names of your sisters and your brothers (imaginary siblings are fine)"
   ]
  },
  {
   "cell_type": "code",
   "execution_count": 120,
   "id": "66862421",
   "metadata": {},
   "outputs": [
    {
     "name": "stdout",
     "output_type": "stream",
     "text": [
      "Brothers tuple is :  ('Mahi', 'Jagu', 'Karthi', 'Abhi')\n"
     ]
    }
   ],
   "source": [
    "# Creating tuple, tuple = ()\n",
    "brothers = ('Mahi','Jagu','Karthi','Abhi') # brothers tuple\n",
    "print('Brothers tuple is : ', brothers)"
   ]
  },
  {
   "cell_type": "code",
   "execution_count": 121,
   "id": "615bda26",
   "metadata": {},
   "outputs": [
    {
     "name": "stdout",
     "output_type": "stream",
     "text": [
      "Sisters tuple is :  ('Kaveri', 'Bharu', 'Lakshmi', 'Raji')\n"
     ]
    }
   ],
   "source": [
    "sisters = ('Kaveri','Bharu','Lakshmi','Raji') # sisters tuple\n",
    "print('Sisters tuple is : ', sisters)"
   ]
  },
  {
   "cell_type": "markdown",
   "id": "71f1a393",
   "metadata": {},
   "source": [
    "### * Join brothers and sisters tuples and assign it to siblings"
   ]
  },
  {
   "cell_type": "code",
   "execution_count": 154,
   "id": "afd3c2f2",
   "metadata": {},
   "outputs": [
    {
     "name": "stdout",
     "output_type": "stream",
     "text": [
      "Siblings tuple is :  ('Mahi', 'Jagu', 'Karthi', 'Abhi', 'Kaveri', 'Bharu', 'Lakshmi', 'Raji')\n"
     ]
    }
   ],
   "source": [
    "# Join brothers and sisters tuples and assign it to siblings\n",
    "siblings = brothers + sisters  # we can add two tuples as tuple1+tuple2\n",
    "print('Siblings tuple is : ', siblings)"
   ]
  },
  {
   "cell_type": "markdown",
   "id": "772dc6eb",
   "metadata": {},
   "source": [
    "### * How many siblings do you have?"
   ]
  },
  {
   "cell_type": "code",
   "execution_count": 123,
   "id": "01e0f7b4",
   "metadata": {},
   "outputs": [
    {
     "name": "stdout",
     "output_type": "stream",
     "text": [
      "Length of siblings tuple is :  8\n"
     ]
    }
   ],
   "source": [
    "print('Length of siblings tuple is : ',len(siblings)) # len(tuple) - length of the tuple"
   ]
  },
  {
   "cell_type": "markdown",
   "id": "31869ab7",
   "metadata": {},
   "source": [
    "### * Modify the siblings tuple and add the name of your father and mother and assign it to family_members"
   ]
  },
  {
   "cell_type": "code",
   "execution_count": 124,
   "id": "84ca247d",
   "metadata": {},
   "outputs": [
    {
     "name": "stdout",
     "output_type": "stream",
     "text": [
      "Family members tuple is :  ('Mahi', 'Jagu', 'Karthi', 'Abhi', 'Kaveri', 'Bharu', 'Lakshmi', 'Raji', 'Lakhmi', 'Anjaneyelu')\n"
     ]
    }
   ],
   "source": [
    "family_members = siblings + ('Lakhmi','Anjaneyelu') # modifying tuple by adding values using + operator\n",
    "print('Family members tuple is : ',family_members )"
   ]
  },
  {
   "cell_type": "markdown",
   "id": "dadb0123",
   "metadata": {},
   "source": [
    "## Question-4"
   ]
  },
  {
   "cell_type": "markdown",
   "id": "d3a026cd",
   "metadata": {},
   "source": [
    "### * Find the length of the set it_companies"
   ]
  },
  {
   "cell_type": "code",
   "execution_count": 3,
   "id": "a0c7103c",
   "metadata": {},
   "outputs": [],
   "source": [
    "it_companies = {'Facebook', 'Google', 'Microsoft', 'Apple', 'IBM', 'Oracle', 'Amazon'}\n",
    "A = {19, 22, 24, 20, 25, 26}\n",
    "B = {19, 22, 20, 25, 26, 24, 28, 27}\n",
    "age = [22, 19, 24, 25, 26, 24, 25, 24]"
   ]
  },
  {
   "cell_type": "code",
   "execution_count": 147,
   "id": "06f06e4e",
   "metadata": {},
   "outputs": [
    {
     "data": {
      "text/plain": [
       "{'Amazon', 'Apple', 'Facebook', 'Google', 'IBM', 'Microsoft', 'Oracle'}"
      ]
     },
     "execution_count": 147,
     "metadata": {},
     "output_type": "execute_result"
    }
   ],
   "source": [
    "it_companies = {'Facebook', 'Google', 'Microsoft', 'Apple', 'IBM', 'Oracle', 'Amazon'}\n",
    "it_companies"
   ]
  },
  {
   "cell_type": "code",
   "execution_count": 148,
   "id": "4b524b32",
   "metadata": {},
   "outputs": [
    {
     "name": "stdout",
     "output_type": "stream",
     "text": [
      "Length of set it_companies is :  7\n"
     ]
    }
   ],
   "source": [
    "# Find the length of the set it_companies\n",
    "print('Length of set it_companies is : ',len(it_companies)) # len(set) - length of the set"
   ]
  },
  {
   "cell_type": "markdown",
   "id": "1196374c",
   "metadata": {},
   "source": [
    "### * Add 'Twitter' to it_companies"
   ]
  },
  {
   "cell_type": "code",
   "execution_count": 149,
   "id": "6bc71354",
   "metadata": {},
   "outputs": [
    {
     "name": "stdout",
     "output_type": "stream",
     "text": [
      "New Set after adding Twitter is :  {'Google', 'Amazon', 'Apple', 'IBM', 'Microsoft', 'Twitter', 'Facebook', 'Oracle'}\n"
     ]
    }
   ],
   "source": [
    "# Add 'Twitter' to it_companies\n",
    "it_companies.add('Twitter') # add(value) - used to add value to the existing set.\n",
    "print('New Set after adding Twitter is : ',it_companies )"
   ]
  },
  {
   "cell_type": "markdown",
   "id": "49e5f805",
   "metadata": {},
   "source": [
    "### * Insert multiple IT companies at once to the set it_companies"
   ]
  },
  {
   "cell_type": "code",
   "execution_count": 150,
   "id": "5c57f528",
   "metadata": {},
   "outputs": [
    {
     "name": "stdout",
     "output_type": "stream",
     "text": [
      "New Set after adding :  {'IBM', 'Apple', 'Tesla', 'Google', 'Oracle', 'VMWare', 'Amazon', 'Intel', 'Facebook', 'Microsoft', 'Twitter'}\n"
     ]
    }
   ],
   "source": [
    "# Insert multiple IT companies at once to the set it_companies\n",
    "new_companies = ['Tesla','Intel','VMWare']\n",
    "it_companies.update(new_companies) # update() is ised to insert new values in the set\n",
    "print('New Set after adding : ',it_companies )"
   ]
  },
  {
   "cell_type": "markdown",
   "id": "a672ef61",
   "metadata": {},
   "source": [
    "### * Remove one of the companies from the set it_companies"
   ]
  },
  {
   "cell_type": "code",
   "execution_count": 151,
   "id": "2a686511",
   "metadata": {},
   "outputs": [
    {
     "data": {
      "text/plain": [
       "{'Amazon',\n",
       " 'Apple',\n",
       " 'Google',\n",
       " 'IBM',\n",
       " 'Intel',\n",
       " 'Microsoft',\n",
       " 'Oracle',\n",
       " 'Tesla',\n",
       " 'Twitter',\n",
       " 'VMWare'}"
      ]
     },
     "execution_count": 151,
     "metadata": {},
     "output_type": "execute_result"
    }
   ],
   "source": [
    "it_companies.remove('Facebook') # remove(value) - will remove the specified value from the set\n",
    "it_companies"
   ]
  },
  {
   "cell_type": "markdown",
   "id": "d2b4804a",
   "metadata": {},
   "source": [
    "### * What is the difference between remove and discard"
   ]
  },
  {
   "cell_type": "code",
   "execution_count": 25,
   "id": "ec5eb1a0",
   "metadata": {},
   "outputs": [],
   "source": [
    "##The discard() method and remove() method removes the specified item from the set.\n",
    "## This discard() method is different from the remove() method, because the remove() method\n",
    "##  will raise an error if the specified item does not exist in set, and the discard() method will not raise \n",
    "## an error if the element is not present in set."
   ]
  },
  {
   "cell_type": "markdown",
   "id": "de94796a",
   "metadata": {},
   "source": [
    "### * Join A and B"
   ]
  },
  {
   "cell_type": "code",
   "execution_count": 156,
   "id": "4c2e284b",
   "metadata": {},
   "outputs": [
    {
     "name": "stdout",
     "output_type": "stream",
     "text": [
      "A union B is :  {19, 20, 22, 24, 25, 26, 27, 28}\n"
     ]
    }
   ],
   "source": [
    "print('A union B is : ', A.union(B)) # union() is used to find the union of 2 sets."
   ]
  },
  {
   "cell_type": "markdown",
   "id": "e513a963",
   "metadata": {},
   "source": [
    "### * Find A intersection B"
   ]
  },
  {
   "cell_type": "code",
   "execution_count": 157,
   "id": "e43ad602",
   "metadata": {},
   "outputs": [
    {
     "name": "stdout",
     "output_type": "stream",
     "text": [
      "A intersection B is : {19, 20, 22, 24, 25, 26}\n"
     ]
    }
   ],
   "source": [
    "print('A intersection B is :',A.intersection(B)) # intersectio() is used to find the intersection of 2 sets."
   ]
  },
  {
   "cell_type": "markdown",
   "id": "6adcd437",
   "metadata": {},
   "source": [
    "### * Is A subset of B"
   ]
  },
  {
   "cell_type": "code",
   "execution_count": 158,
   "id": "885b8cee",
   "metadata": {},
   "outputs": [
    {
     "name": "stdout",
     "output_type": "stream",
     "text": [
      "Is A subset of B : True\n"
     ]
    }
   ],
   "source": [
    "# issibset() is used to identify if two sets one set is subset of other set\n",
    "print('Is A subset of B :',A.issubset(B))"
   ]
  },
  {
   "cell_type": "markdown",
   "id": "4b7d713e",
   "metadata": {},
   "source": [
    "### * Are A and B disjoint sets"
   ]
  },
  {
   "cell_type": "code",
   "execution_count": 159,
   "id": "a958bf3a",
   "metadata": {},
   "outputs": [
    {
     "name": "stdout",
     "output_type": "stream",
     "text": [
      "Is A disjoint of B : False\n"
     ]
    }
   ],
   "source": [
    "# isdisjoint() is used to know if two sets are disjoint or not - it returns boolean value\n",
    "print('Is A disjoint of B :',A.isdisjoint(B))"
   ]
  },
  {
   "cell_type": "markdown",
   "id": "7c5de8cd",
   "metadata": {},
   "source": [
    "### * Join A with B and B with A"
   ]
  },
  {
   "cell_type": "code",
   "execution_count": 160,
   "id": "32afdbe2",
   "metadata": {},
   "outputs": [
    {
     "name": "stdout",
     "output_type": "stream",
     "text": [
      "Joining A with B : {19, 20, 22, 24, 25, 26, 27, 28}\n"
     ]
    }
   ],
   "source": [
    "print('Joining A with B :', A.union(B)) # joining A with B"
   ]
  },
  {
   "cell_type": "code",
   "execution_count": 161,
   "id": "60c67700",
   "metadata": {},
   "outputs": [
    {
     "name": "stdout",
     "output_type": "stream",
     "text": [
      "Joining B with A : {19, 20, 22, 24, 25, 26, 27, 28}\n"
     ]
    }
   ],
   "source": [
    "print('Joining B with A :', B.union(A)) # Joining B with A"
   ]
  },
  {
   "cell_type": "markdown",
   "id": "778e47c6",
   "metadata": {},
   "source": [
    "### * What is the symmetric difference between A and B"
   ]
  },
  {
   "cell_type": "code",
   "execution_count": 162,
   "id": "a0d8d43b",
   "metadata": {},
   "outputs": [
    {
     "name": "stdout",
     "output_type": "stream",
     "text": [
      " Symmetric difference between A and B is : {27, 28}\n"
     ]
    }
   ],
   "source": [
    "# symmetric_difference() is used to find the symmetric diff between 2 sets\n",
    "print(' Symmetric difference between A and B is :',A.symmetric_difference(B)) "
   ]
  },
  {
   "cell_type": "markdown",
   "id": "aed8b7ce",
   "metadata": {},
   "source": [
    "### * Delete the sets completely"
   ]
  },
  {
   "cell_type": "code",
   "execution_count": null,
   "id": "ddec28be",
   "metadata": {},
   "outputs": [],
   "source": [
    "del(A) # del(set) - permanently delete the set\n",
    "del(B)"
   ]
  },
  {
   "cell_type": "markdown",
   "id": "cea15802",
   "metadata": {},
   "source": [
    "### * Convert the ages to a set and compare the length of the list and the set."
   ]
  },
  {
   "cell_type": "code",
   "execution_count": 4,
   "id": "79984089",
   "metadata": {},
   "outputs": [
    {
     "name": "stdout",
     "output_type": "stream",
     "text": [
      "Converting Ages to a Set : {19, 22, 24, 25, 26}\n"
     ]
    }
   ],
   "source": [
    "print('Converting Ages to a Set :', set(age)) # set(list)- used to convert list to set"
   ]
  },
  {
   "cell_type": "code",
   "execution_count": 5,
   "id": "ea07aaef",
   "metadata": {},
   "outputs": [
    {
     "name": "stdout",
     "output_type": "stream",
     "text": [
      "Length of age list : 8\n"
     ]
    }
   ],
   "source": [
    "print('Length of age list :', len(age)) # len(list) - used to find the length of list"
   ]
  },
  {
   "cell_type": "code",
   "execution_count": 6,
   "id": "651525a1",
   "metadata": {},
   "outputs": [
    {
     "name": "stdout",
     "output_type": "stream",
     "text": [
      "Lenght of Age Set : 5\n"
     ]
    }
   ],
   "source": [
    "print('Lenght of Age Set :', len(set(age))) # len(set) - used to find the length of set"
   ]
  },
  {
   "cell_type": "code",
   "execution_count": 36,
   "id": "cd9251b2",
   "metadata": {},
   "outputs": [],
   "source": [
    "# len(age) > len(set(age)) # Length of list is greater than length of set"
   ]
  },
  {
   "cell_type": "markdown",
   "id": "6f45899a",
   "metadata": {},
   "source": [
    "## Question-5"
   ]
  },
  {
   "cell_type": "markdown",
   "id": "41118e0c",
   "metadata": {},
   "source": [
    "### * Calculate the area of a circle and assign the value to a variable name of _area_of_circle_"
   ]
  },
  {
   "cell_type": "code",
   "execution_count": 80,
   "id": "e37d81b0",
   "metadata": {},
   "outputs": [
    {
     "name": "stdout",
     "output_type": "stream",
     "text": [
      " The area of the given circle in meters is:  2826.0\n"
     ]
    }
   ],
   "source": [
    "# The radius of a circle is 30 meters.\n",
    "# Calculate the area of a circle and assign the value to a variable name of _area_of_circle_\n",
    "r = 30\n",
    "area = 3.14* r * r # area of circle\n",
    "_area_of_the_circle_ = area   # assigning area value to _area_of_the_circle_\n",
    "print (\" The area of the given circle in meters is: \", _area_of_the_circle_) "
   ]
  },
  {
   "cell_type": "markdown",
   "id": "cdf51601",
   "metadata": {},
   "source": [
    "### * Calculate the circumference of a circle and assign the value to a variable name of _circum_of_circle_"
   ]
  },
  {
   "cell_type": "code",
   "execution_count": 81,
   "id": "d16138b0",
   "metadata": {},
   "outputs": [
    {
     "name": "stdout",
     "output_type": "stream",
     "text": [
      " The Circumferance of the given circle in meters is:  188.4\n"
     ]
    }
   ],
   "source": [
    "# Calculate the circumference of a circle and assign the value to a variable name of _circum_of_circle_\n",
    "circumferance = 2*3.14*r # circumferance of circle\n",
    "_circum_of_circle_ = circumferance # assigning circumferance value to _circum_of_circle_\n",
    "print (\" The Circumferance of the given circle in meters is: \", _circum_of_circle_)"
   ]
  },
  {
   "cell_type": "markdown",
   "id": "9c1c9857",
   "metadata": {},
   "source": [
    "### * Take radius as user input and calculate the area."
   ]
  },
  {
   "cell_type": "code",
   "execution_count": 87,
   "id": "8fae9d1a",
   "metadata": {},
   "outputs": [
    {
     "name": "stdout",
     "output_type": "stream",
     "text": [
      "Enter radius of circle in Meters:30\n",
      " The area of the given circle in meters is:  2826.0\n"
     ]
    }
   ],
   "source": [
    "# Take radius as user input and calculate the area.\n",
    "r = input(\"Enter radius of circle in Meters:\") # input() - used to get the user input\n",
    "area = (3.14)* float(r) * float(r)\n",
    "print (\"The area of the given circle in meters is: \",area)"
   ]
  },
  {
   "cell_type": "markdown",
   "id": "efbf4d28",
   "metadata": {},
   "source": [
    "## Question-6"
   ]
  },
  {
   "cell_type": "markdown",
   "id": "a88556bf",
   "metadata": {},
   "source": [
    "### * How many unique words have been used in the sentence? Use the split methods and set to get the\n",
    "### unique words."
   ]
  },
  {
   "cell_type": "code",
   "execution_count": 40,
   "id": "3d2b5d62",
   "metadata": {},
   "outputs": [
    {
     "data": {
      "text/plain": [
       "'I am a teacher and I love to inspire and teach people'"
      ]
     },
     "execution_count": 40,
     "metadata": {},
     "output_type": "execute_result"
    }
   ],
   "source": [
    "x = 'I am a teacher and I love to inspire and teach people'\n",
    "x"
   ]
  },
  {
   "cell_type": "code",
   "execution_count": 41,
   "id": "b431915c",
   "metadata": {},
   "outputs": [
    {
     "data": {
      "text/plain": [
       "['I',\n",
       " 'am',\n",
       " 'a',\n",
       " 'teacher',\n",
       " 'and',\n",
       " 'I',\n",
       " 'love',\n",
       " 'to',\n",
       " 'inspire',\n",
       " 'and',\n",
       " 'teach',\n",
       " 'people']"
      ]
     },
     "execution_count": 41,
     "metadata": {},
     "output_type": "execute_result"
    }
   ],
   "source": [
    "words = x.split() # split() is used to split the string into list of individual words\n",
    "words"
   ]
  },
  {
   "cell_type": "code",
   "execution_count": 42,
   "id": "58a03531",
   "metadata": {},
   "outputs": [
    {
     "data": {
      "text/plain": [
       "{'I', 'a', 'am', 'and', 'inspire', 'love', 'people', 'teach', 'teacher', 'to'}"
      ]
     },
     "execution_count": 42,
     "metadata": {},
     "output_type": "execute_result"
    }
   ],
   "source": [
    "# Find the unique words --- this wrong -- should try properly with set\n",
    "unique_words = set(words) # set(list) - converting list to set\n",
    "unique_words"
   ]
  },
  {
   "cell_type": "code",
   "execution_count": 43,
   "id": "7b7969df",
   "metadata": {},
   "outputs": [
    {
     "data": {
      "text/plain": [
       "10"
      ]
     },
     "execution_count": 43,
     "metadata": {},
     "output_type": "execute_result"
    }
   ],
   "source": [
    "len(unique_words) #len() is used to find the unique words"
   ]
  },
  {
   "cell_type": "markdown",
   "id": "c6be102a",
   "metadata": {},
   "source": [
    "## Question-7"
   ]
  },
  {
   "cell_type": "markdown",
   "id": "765a666d",
   "metadata": {},
   "source": [
    "### * Use a tab escape sequence to get the following lines."
   ]
  },
  {
   "cell_type": "code",
   "execution_count": 44,
   "id": "5f448cde",
   "metadata": {},
   "outputs": [],
   "source": [
    "# Name Age Country City\n",
    "# Asabeneh 250 Finland Helsinki"
   ]
  },
  {
   "cell_type": "code",
   "execution_count": 155,
   "id": "16bc2f27",
   "metadata": {},
   "outputs": [
    {
     "name": "stdout",
     "output_type": "stream",
     "text": [
      "Name\t\tAge\tCountry\t\tCity\n",
      "Asabeneh\t250\tFinland\t\tHelsinki\n"
     ]
    }
   ],
   "source": [
    "#\\t is used for tab and \\n is used for next line\n",
    "print('Name\\t\\tAge\\tCountry\\t\\tCity\\nAsabeneh\\t250\\tFinland\\t\\tHelsinki') "
   ]
  },
  {
   "cell_type": "markdown",
   "id": "ea400219",
   "metadata": {},
   "source": [
    "## Question-8"
   ]
  },
  {
   "cell_type": "markdown",
   "id": "6e07db86",
   "metadata": {},
   "source": [
    "### * Use the string formatting method to display the following:"
   ]
  },
  {
   "cell_type": "code",
   "execution_count": 46,
   "id": "a36098c4",
   "metadata": {},
   "outputs": [
    {
     "data": {
      "text/plain": [
       "'The area of a circle with radius is 10 and area is 314.0 meters square.'"
      ]
     },
     "execution_count": 46,
     "metadata": {},
     "output_type": "execute_result"
    }
   ],
   "source": [
    "#format() is used to pass the diff strings in the sequentail order\n",
    "radius = 10\n",
    "area = 3.14 * radius ** 2\n",
    "text = \"The area of a circle with radius is {} and area is {} meters square.\".format(radius,area)\n",
    "text"
   ]
  },
  {
   "cell_type": "markdown",
   "id": "38d631b6",
   "metadata": {},
   "source": [
    "## Question-9"
   ]
  },
  {
   "cell_type": "markdown",
   "id": "ac173a1d",
   "metadata": {},
   "source": [
    "### * Write a program, which reads weights (lbs.) of N students into a list and convert these weights to  \n",
    "### kilograms in a separate list using Loop. N: No of students (Read input from user)"
   ]
  },
  {
   "cell_type": "code",
   "execution_count": 170,
   "id": "b9cbe53a",
   "metadata": {},
   "outputs": [
    {
     "name": "stdout",
     "output_type": "stream",
     "text": [
      "Enter No. of students : 4\n",
      "Enter student1 weight in lbs: 2\n",
      "Enter student2 weight in lbs: 12\n",
      "Enter student3 weight in lbs: 21\n",
      "Enter student4 weight in lbs: 5\n",
      "Weights in Lbs is : [2, 12, 21, 5]\n",
      "Weights in Kgs is : [0.907, 5.443, 9.525, 2.268]\n"
     ]
    }
   ],
   "source": [
    "N = int(input('Enter No. of students : '))\n",
    "weights_kgs = [] # new list for weight in kgs\n",
    "weights_lbs = [] # new list for weight in lbs\n",
    "\n",
    "for i in range(N):\n",
    "    weights_lbs.append(int(input('Enter student{} weight in lbs: '.format(i+1)))) # append() to add all the weight values\n",
    "print('Weights in Lbs is :', weights_lbs)\n",
    "\n",
    "for i in weights_lbs:\n",
    "    x = i*0.453592  #1 lb = 0.453592 Kg\n",
    "    weights_kgs.append(float(\"%.3f\" %x)) #%.3f floating point for 3 decimal values\n",
    "print('Weights in Kgs is :', weights_kgs)"
   ]
  }
 ],
 "metadata": {
  "kernelspec": {
   "display_name": "Python 3 (ipykernel)",
   "language": "python",
   "name": "python3"
  },
  "language_info": {
   "codemirror_mode": {
    "name": "ipython",
    "version": 3
   },
   "file_extension": ".py",
   "mimetype": "text/x-python",
   "name": "python",
   "nbconvert_exporter": "python",
   "pygments_lexer": "ipython3",
   "version": "3.9.12"
  }
 },
 "nbformat": 4,
 "nbformat_minor": 5
}
